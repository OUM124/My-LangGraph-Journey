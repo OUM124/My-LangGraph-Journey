{
 "cells": [
  {
   "cell_type": "code",
   "execution_count": 2,
   "id": "f08a8611",
   "metadata": {},
   "outputs": [],
   "source": [
    "from typing import TypedDict, List \n",
    "from langgraph.graph import StateGraph,START, END"
   ]
  },
  {
   "cell_type": "code",
   "execution_count": 3,
   "id": "d7be74d5",
   "metadata": {},
   "outputs": [],
   "source": [
    "class State(TypedDict):\n",
    "    x1 : int\n",
    "    x2 : int \n",
    "    operation : str\n",
    "    final_number : int\n",
    "    "
   ]
  },
  {
   "cell_type": "code",
   "execution_count": 6,
   "id": "e8546b95",
   "metadata": {},
   "outputs": [],
   "source": [
    "def adder(state : State) -> State:\n",
    "    \"\"\"Adds x1 and x2 and stores the result in final_number.\"\"\"\n",
    "\n",
    "    state['final_number'] = state['x1'] + state['x2']\n",
    "    return state\n",
    "\n",
    "def subtractor(state : State) -> State:\n",
    "    \"\"\"Subtracts x2 from x1 and stores the result in final_number.\"\"\"\n",
    "\n",
    "    state['final_number'] = state['x1'] - state['x2']\n",
    "    return state\n",
    "\n",
    "def decide_next_node(state : State) -> State:\n",
    "    \"\"\" Decide which node to run nex \"\"\"\n",
    "    if state['operation'] == \"+\":\n",
    "        return \"addition_link\"\n",
    "    else: \n",
    "        return \"subtraction_link\"\n",
    "    \n",
    "       "
   ]
  },
  {
   "cell_type": "code",
   "execution_count": 9,
   "id": "40309f50",
   "metadata": {},
   "outputs": [],
   "source": [
    "graph = StateGraph(State)\n",
    "graph.add_node(\"adder\",adder)\n",
    "graph.add_node(\"subtractor\",subtractor)\n",
    "graph.add_node(\"router\", lambda state:state)\n",
    "\n",
    "graph.add_edge(START,\"router\")\n",
    "graph.add_conditional_edges(\"router\",decide_next_node,{\"addition_link\":\"adder\",\"substration_link\":\"subtractor\"})\n",
    "\n",
    "graph.add_edge(\"adder\",END)\n",
    "graph.add_edge(\"subtractor\",END)\n",
    "\n",
    "app = graph.compile()"
   ]
  },
  {
   "cell_type": "code",
   "execution_count": null,
   "id": "46be7d9e",
   "metadata": {},
   "outputs": [
    {
     "data": {
      "image/png": "[encoded data removed]",
      "text/plain": [
       "<langgraph.graph.state.CompiledStateGraph object at 0x000001C433E44450>"
      ]
     },
     "execution_count": 10,
     "metadata": {},
     "output_type": "execute_result"
    },
    {
     "ename": "",
     "evalue": "",
     "output_type": "error",
     "traceback": [
      "\u001b[1;31mThe Kernel crashed while executing code in the current cell or a previous cell. \n",
      "\u001b[1;31mPlease review the code in the cell(s) to identify a possible cause of the failure. \n",
      "\u001b[1;31mClick <a href='https://aka.ms/vscodeJupyterKernelCrash'>here</a> for more info. \n",
      "\u001b[1;31mView Jupyter <a href='command:jupyter.viewOutput'>log</a> for further details."
     ]
    }
   ],
   "source": [
    "graph.compile()"
   ]
  }
 ],
 "metadata": {
  "kernelspec": {
   "display_name": "Python 3",
   "language": "python",
   "name": "python3"
  },
  "language_info": {
   "codemirror_mode": {
    "name": "ipython",
    "version": 3
   },
   "file_extension": ".py",
   "mimetype": "text/x-python",
   "name": "python",
   "nbconvert_exporter": "python",
   "pygments_lexer": "ipython3",
   "version": "3.11.9"
  }
 },
 "nbformat": 4,
 "nbformat_minor": 5
}
