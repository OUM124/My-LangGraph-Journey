{
 "cells": [
  {
   "cell_type": "code",
   "execution_count": 6,
   "id": "24a87b03",
   "metadata": {},
   "outputs": [],
   "source": [
    "from typing import TypedDict,List\n",
    "from langgraph.graph import StateGraph, START,END \n",
    "import random"
   ]
  },
  {
   "cell_type": "code",
   "execution_count": 12,
   "id": "f663acea",
   "metadata": {},
   "outputs": [],
   "source": [
    "class State(TypedDict):\n",
    "    name : str\n",
    "    rand_list : List[int]\n",
    "    counter : int\n",
    "    greeting : str\n",
    "\n",
    "\n",
    "def greeting(state : State) -> State:\n",
    "    \"\"\" return a greeting expression\"\"\"\n",
    "\n",
    "    state['greeting'] = \"Hello \"+ state['name'] + \"!\"\n",
    "    state['counter'] = 0\n",
    "    return state\n",
    "\n",
    "\n",
    "def random_number_gen(state : State) -> State:\n",
    "    \"\"\" Generate a random number and add it to the list\"\"\"\n",
    "    \n",
    "    state['rand_list'].append(random.randint(1,10))\n",
    "    state['counter'] += 1\n",
    "    return state\n",
    "\n",
    "\n",
    "def should_continue(state: State) -> str:\n",
    "    \"\"\" Check if the counter is less than 5\"\"\"\n",
    "    \n",
    "    if state['counter'] < 5:\n",
    "        print(\"Hello Ouma from iteration \" + str(state['counter']))\n",
    "        return \"continue\"   \n",
    "    else:\n",
    "        return \"end\"\n",
    "\n",
    "    \n",
    "      "
   ]
  },
  {
   "cell_type": "code",
   "execution_count": null,
   "id": "2fd58575",
   "metadata": {},
   "outputs": [],
   "source": [
    "# Start - greeting - random - random - random - random - random - end"
   ]
  },
  {
   "cell_type": "code",
   "execution_count": 13,
   "id": "3f6c5c8a",
   "metadata": {},
   "outputs": [],
   "source": [
    "graph = StateGraph(State)\n",
    "\n",
    "graph.add_node(\"greeter\",greeting)\n",
    "graph.add_node(\"randomizer\",random_number_gen)\n",
    "\n",
    "graph.add_edge(START,\"greeter\")\n",
    "graph.add_edge(\"greeter\",\"randomizer\") \n",
    "graph.add_conditional_edges(\"randomizer\", # src node\n",
    "                            should_continue, # action\n",
    "                            {\n",
    "                                \"continue\": \"randomizer\", # path 1\n",
    "                                \"end\":END # path 2\n",
    "                            })\n",
    "app = graph.compile()  "
   ]
  },
  {
   "cell_type": "code",
   "execution_count": 14,
   "id": "ea0dca50",
   "metadata": {},
   "outputs": [
    {
     "data": {
      "image/png": "[encoded data removed]",
      "text/plain": [
       "<langgraph.graph.state.CompiledStateGraph object at 0x0000025DD826CCD0>"
      ]
     },
     "execution_count": 14,
     "metadata": {},
     "output_type": "execute_result"
    }
   ],
   "source": [
    "graph.compile()"
   ]
  },
  {
   "cell_type": "code",
   "execution_count": 15,
   "id": "00c79f6e",
   "metadata": {},
   "outputs": [
    {
     "name": "stdout",
     "output_type": "stream",
     "text": [
      "Hello Ouma from iteration 1\n",
      "Hello Ouma from iteration 2\n",
      "Hello Ouma from iteration 3\n",
      "Hello Ouma from iteration 4\n"
     ]
    },
    {
     "data": {
      "text/plain": [
       "{'name': 'Oumaima',\n",
       " 'rand_list': [10, 8, 7, 7, 4],\n",
       " 'counter': 5,\n",
       " 'greeting': 'Hello Oumaima!'}"
      ]
     },
     "execution_count": 15,
     "metadata": {},
     "output_type": "execute_result"
    }
   ],
   "source": [
    "app.invoke({\"name\" : \"Oumaima\", \"rand_list\": []})"
   ]
  }
 ],
 "metadata": {
  "kernelspec": {
   "display_name": "Python 3",
   "language": "python",
   "name": "python3"
  },
  "language_info": {
   "codemirror_mode": {
    "name": "ipython",
    "version": 3
   },
   "file_extension": ".py",
   "mimetype": "text/x-python",
   "name": "python",
   "nbconvert_exporter": "python",
   "pygments_lexer": "ipython3",
   "version": "3.11.9"
  }
 },
 "nbformat": 4,
 "nbformat_minor": 5
}
