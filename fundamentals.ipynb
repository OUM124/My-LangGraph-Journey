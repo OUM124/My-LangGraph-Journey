{
 "cells": [
  {
   "cell_type": "markdown",
   "id": "495a434a",
   "metadata": {},
   "source": [
    "##### Typed Dictionaries"
   ]
  },
  {
   "cell_type": "code",
   "execution_count": 2,
   "id": "01a07273",
   "metadata": {},
   "outputs": [],
   "source": [
    "from typing import TypedDict\n",
    "class User(TypedDict):\n",
    "    id : str\n",
    "    name : str\n",
    "    iq : int\n",
    "\n",
    "# intantiate\n",
    "Oumaima = User(id=\"I13\",name=\"Oum\",iq=100)\n"
   ]
  },
  {
   "cell_type": "code",
   "execution_count": 6,
   "id": "cbed8fd4",
   "metadata": {},
   "outputs": [
    {
     "data": {
      "text/plain": [
       "'Oum'"
      ]
     },
     "execution_count": 6,
     "metadata": {},
     "output_type": "execute_result"
    }
   ],
   "source": [
    "Oumaima[\"name\"]"
   ]
  },
  {
   "cell_type": "markdown",
   "id": "bfbb38f0",
   "metadata": {},
   "source": [
    "#### Union\n"
   ]
  },
  {
   "cell_type": "code",
   "execution_count": 10,
   "id": "61520e11",
   "metadata": {},
   "outputs": [
    {
     "data": {
      "text/plain": [
       "4"
      ]
     },
     "execution_count": 10,
     "metadata": {},
     "output_type": "execute_result"
    }
   ],
   "source": [
    "from typing import Union\n",
    "def square(x:Union [int,float]):\n",
    "    return x*x\n",
    "\n",
    "# test\n",
    "x = 3\n",
    "x = \"string\"\n",
    "square(2)\n",
    "# square(x) # this will raise an error"
   ]
  },
  {
   "cell_type": "markdown",
   "id": "5204a286",
   "metadata": {},
   "source": [
    "#### Optional"
   ]
  },
  {
   "cell_type": "code",
   "execution_count": 17,
   "id": "f19b7446",
   "metadata": {},
   "outputs": [
    {
     "name": "stdout",
     "output_type": "stream",
     "text": [
      "Oum\n",
      "Unknown\n"
     ]
    }
   ],
   "source": [
    "from typing import Optional\n",
    "def get_user_name(user: Optional[User]=None):\n",
    "    if user is None:\n",
    "        return \"Unknown\"\n",
    "    return user[\"name\"]\n",
    "# test\n",
    "print(get_user_name(Oumaima))\n",
    "print(get_user_name())"
   ]
  },
  {
   "cell_type": "markdown",
   "id": "b96f1860",
   "metadata": {},
   "source": [
    "#### Any \n"
   ]
  },
  {
   "cell_type": "code",
   "execution_count": 19,
   "id": "d14a9f6e",
   "metadata": {},
   "outputs": [
    {
     "data": {
      "text/plain": [
       "int"
      ]
     },
     "execution_count": 19,
     "metadata": {},
     "output_type": "execute_result"
    }
   ],
   "source": [
    "from typing import Any\n",
    "def get_any(x:Any):\n",
    "    return type(x)\n",
    "get_any(1)  # int"
   ]
  },
  {
   "cell_type": "markdown",
   "id": "4e118ffc",
   "metadata": {},
   "source": [
    "#### Lambda Functions "
   ]
  },
  {
   "cell_type": "code",
   "execution_count": 23,
   "id": "892e4fdd",
   "metadata": {},
   "outputs": [
    {
     "data": {
      "text/plain": [
       "[1, 4, 9]"
      ]
     },
     "execution_count": 23,
     "metadata": {},
     "output_type": "execute_result"
    }
   ],
   "source": [
    "l = [1, 2, 3]\n",
    "squaresList = list(map(lambda x: x*x,l))\n",
    "squaresList"
   ]
  }
 ],
 "metadata": {
  "kernelspec": {
   "display_name": "Python 3",
   "language": "python",
   "name": "python3"
  },
  "language_info": {
   "codemirror_mode": {
    "name": "ipython",
    "version": 3
   },
   "file_extension": ".py",
   "mimetype": "text/x-python",
   "name": "python",
   "nbconvert_exporter": "python",
   "pygments_lexer": "ipython3",
   "version": "3.11.9"
  }
 },
 "nbformat": 4,
 "nbformat_minor": 5
}
