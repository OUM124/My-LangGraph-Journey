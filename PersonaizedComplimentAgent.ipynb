{
 "cells": [
  {
   "cell_type": "code",
   "execution_count": 7,
   "id": "9e489843",
   "metadata": {},
   "outputs": [
    {
     "name": "stderr",
     "output_type": "stream",
     "text": [
      "\n",
      "[notice] A new release of pip is available: 24.2 -> 25.1.1\n",
      "[notice] To update, run: C:\\Users\\Dell\\AppData\\Local\\Microsoft\\WindowsApps\\PythonSoftwareFoundation.Python.3.11_qbz5n2kfra8p0\\python.exe -m pip install --upgrade pip\n"
     ]
    }
   ],
   "source": [
    "!pip install -q langgraph"
   ]
  },
  {
   "cell_type": "code",
   "execution_count": 8,
   "id": "93577031",
   "metadata": {},
   "outputs": [],
   "source": [
    "from typing import TypedDict\n",
    "from langgraph.graph import StateGraph"
   ]
  },
  {
   "cell_type": "code",
   "execution_count": 11,
   "id": "5ed72225",
   "metadata": {},
   "outputs": [],
   "source": [
    "# Create the State as dict\n",
    "class User(TypedDict):\n",
    "    name : str\n",
    "# Define node ( state --- state)\n",
    "def send_compliment(state: User) -> User : \n",
    "    \"\"\"Write a compliment for the person with the given name\"\"\"\n",
    "    state['name'] = state['name'] + \"! You are awesome!\"\n",
    "    return state\n",
    "# create the graph \n",
    "graph = StateGraph(User)\n",
    "# Start and end nodes\n",
    "graph.add_node('compliment', send_compliment)\n",
    "graph.set_entry_point('compliment')\n",
    "graph.set_finish_point('compliment')\n",
    "app = graph.compile()"
   ]
  },
  {
   "cell_type": "code",
   "execution_count": null,
   "id": "09fcbf18",
   "metadata": {},
   "outputs": [],
   "source": [
    "res = app.invoke({\"name\": \"Oum\"})\n"
   ]
  },
  {
   "cell_type": "code",
   "execution_count": 13,
   "id": "a47cdd29",
   "metadata": {},
   "outputs": [
    {
     "data": {
      "text/plain": [
       "'Oum! You are awesome!'"
      ]
     },
     "execution_count": 13,
     "metadata": {},
     "output_type": "execute_result"
    }
   ],
   "source": [
    "res['name']"
   ]
  }
 ],
 "metadata": {
  "kernelspec": {
   "display_name": "Python 3",
   "language": "python",
   "name": "python3"
  },
  "language_info": {
   "codemirror_mode": {
    "name": "ipython",
    "version": 3
   },
   "file_extension": ".py",
   "mimetype": "text/x-python",
   "name": "python",
   "nbconvert_exporter": "python",
   "pygments_lexer": "ipython3",
   "version": "3.11.9"
  }
 },
 "nbformat": 4,
 "nbformat_minor": 5
}
