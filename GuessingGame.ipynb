{
 "cells": [
  {
   "cell_type": "code",
   "execution_count": 95,
   "id": "a7b5da94",
   "metadata": {},
   "outputs": [],
   "source": [
    "from typing import TypedDict, List \n",
    "from langgraph.graph import StateGraph, START , END\n",
    "import random"
   ]
  },
  {
   "cell_type": "code",
   "execution_count": 96,
   "id": "6328d29b",
   "metadata": {},
   "outputs": [],
   "source": [
    "class State(TypedDict):\n",
    "    name : str\n",
    "    greeting : str\n",
    "    guesses : List[int]\n",
    "    lower_bound : int\n",
    "    upper_bound : int\n",
    "    max_guesses : int\n",
    "    attempts : int\n",
    "    guess : int\n",
    "    hint : str\n",
    "\n",
    "def setup(state : State) -> State:\n",
    "    \"\"\"Set up the initial state for the guessing game \"\"\"\n",
    "\n",
    "    state['greeting'] = f\"Welcome to the guessing game, {state['name']}!\"\n",
    "    state['guesses'] = []\n",
    "    state['lower_bound'] = 1\n",
    "    state['upper_bound'] = 20\n",
    "    state['max_guesses'] = 7\n",
    "    state['attempts' ] = 0\n",
    "    state['hint'] = \"\"\n",
    "    state['guess'] = 10\n",
    "    return state\n",
    "\n",
    "\n",
    "def guess(state : State) -> State:\n",
    "    \"\"\" This node guesses a number at each time, \n",
    "        updates the list,\n",
    "        takes into consideration the hints provided by the hint node\"\"\"\n",
    "    \n",
    "    if state['attempts'] != 0:\n",
    "        if state['hint'] == \"higher\":\n",
    "            state['lower_bound'] = state['guesses'][-1]\n",
    "        else:\n",
    "            state['upper_bound'] = state['guesses'][-1]   \n",
    "        print(\"The hint is: \", state['hint'])             \n",
    "    state['guesses'].append(random.randint(state['lower_bound'],state['upper_bound']))\n",
    "    print(f\"Guessing: {state['guesses'][-1]} at iteration {state['attempts'] +1}\") \n",
    "    state[\"attempts\"] += 1\n",
    "    return state\n",
    "\n",
    "\n",
    "\n",
    "def should_continue(state: State) -> str:\n",
    "    \"\"\" \n",
    "        This node is responsible for for providing hints to the guesser \n",
    "        Stop  : \n",
    "        - if the guess is correct\n",
    "        - if the maximum number of guesses is reached\n",
    "        Continue:\n",
    "        - if there are still guesses left\n",
    "    \"\"\"\n",
    "\n",
    "    if state['attempts'] == state['max_guesses']:\n",
    "        print(\"Maximum number of guesses reached.\")\n",
    "        print(\"The correct number was: \", state['guess'])\n",
    "        return \"stop\"\n",
    "    \n",
    "    if state['guess'] == state['guesses'][-1]:\n",
    "        return \"stop\"\n",
    "    \n",
    "    return \"continue\"\n",
    "    \n",
    "\n",
    "\n",
    "def hint(state: State) -> State:\n",
    "    \"\"\" This node provides hints to the guesser based on the previous guess \"\"\"\n",
    "    \n",
    "    if state['guess'] < state['guesses'][-1]:\n",
    "        state['hint'] = \"lower\"\n",
    "\n",
    "    elif state['guess'] > state['guesses'][-1]:    \n",
    "        state['hint'] = \"higher\"\n",
    "\n",
    "    return state\n",
    "\n",
    "\n",
    "\n",
    "\n",
    "\n"
   ]
  },
  {
   "cell_type": "code",
   "execution_count": 97,
   "id": "704b2b9c",
   "metadata": {},
   "outputs": [
    {
     "data": {
      "text/plain": [
       "<langgraph.graph.state.StateGraph at 0x22aee96cf10>"
      ]
     },
     "execution_count": 97,
     "metadata": {},
     "output_type": "execute_result"
    }
   ],
   "source": [
    "graph = StateGraph(State)\n",
    "graph.add_node(\"setup\",setup)\n",
    "graph.add_node(\"guesser\", guess)\n",
    "graph.add_node(\"hint_giver\", hint)\n",
    "\n",
    "graph.add_edge(START,\"setup\")\n",
    "graph.add_edge(\"setup\",\"guesser\")\n",
    "graph.add_edge(\"guesser\",\"hint_giver\")\n",
    "\n",
    "graph.add_conditional_edges(\"hint_giver\",\n",
    "                            should_continue,\n",
    "                            {\n",
    "                                \"continue\": \"guesser\",\n",
    "                                \"stop\": END\n",
    "                            })\n"
   ]
  },
  {
   "cell_type": "code",
   "execution_count": 98,
   "id": "02b51e83",
   "metadata": {},
   "outputs": [],
   "source": [
    "app = graph.compile()"
   ]
  },
  {
   "cell_type": "code",
   "execution_count": 99,
   "id": "0a5559f2",
   "metadata": {},
   "outputs": [
    {
     "data": {
      "image/png": "[encoded data removed]",
      "text/plain": [
       "<langgraph.graph.state.CompiledStateGraph object at 0x0000022AEE85AC10>"
      ]
     },
     "execution_count": 99,
     "metadata": {},
     "output_type": "execute_result"
    }
   ],
   "source": [
    "graph.compile()"
   ]
  },
  {
   "cell_type": "code",
   "execution_count": 100,
   "id": "c120011a",
   "metadata": {},
   "outputs": [
    {
     "name": "stdout",
     "output_type": "stream",
     "text": [
      "Guessing: 13 at iteration 1\n",
      "The hint is:  lower\n",
      "Guessing: 6 at iteration 2\n",
      "The hint is:  higher\n",
      "Guessing: 12 at iteration 3\n",
      "The hint is:  lower\n",
      "Guessing: 9 at iteration 4\n",
      "The hint is:  higher\n",
      "Guessing: 12 at iteration 5\n",
      "The hint is:  lower\n",
      "Guessing: 9 at iteration 6\n",
      "The hint is:  higher\n",
      "Guessing: 10 at iteration 7\n",
      "Maximum number of guesses reached.\n",
      "The correct number was:  10\n"
     ]
    },
    {
     "data": {
      "text/plain": [
       "{'name': 'Oumaima',\n",
       " 'greeting': 'Welcome to the guessing game, Oumaima!',\n",
       " 'guesses': [13, 6, 12, 9, 12, 9, 10],\n",
       " 'lower_bound': 9,\n",
       " 'upper_bound': 12,\n",
       " 'max_guesses': 7,\n",
       " 'attempts': 7,\n",
       " 'guess': 10,\n",
       " 'hint': 'higher'}"
      ]
     },
     "execution_count": 100,
     "metadata": {},
     "output_type": "execute_result"
    }
   ],
   "source": [
    "app.invoke({\"name\": \"Oumaima\"})"
   ]
  }
 ],
 "metadata": {
  "kernelspec": {
   "display_name": "Python 3",
   "language": "python",
   "name": "python3"
  },
  "language_info": {
   "codemirror_mode": {
    "name": "ipython",
    "version": 3
   },
   "file_extension": ".py",
   "mimetype": "text/x-python",
   "name": "python",
   "nbconvert_exporter": "python",
   "pygments_lexer": "ipython3",
   "version": "3.11.9"
  }
 },
 "nbformat": 4,
 "nbformat_minor": 5
}
